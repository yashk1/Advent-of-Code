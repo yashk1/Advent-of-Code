{
 "cells": [
  {
   "cell_type": "code",
   "execution_count": 29,
   "metadata": {},
   "outputs": [
    {
     "data": {
      "text/plain": [
       "['15-60', '14-59']"
      ]
     },
     "execution_count": 29,
     "metadata": {},
     "output_type": "execute_result"
    }
   ],
   "source": [
    "f = open('/Users/yash/github/Advent of code/input/day4.txt')\n",
    "pairs = f.read().splitlines()\n",
    "\n",
    "pairs[0].split(',')"
   ]
  },
  {
   "cell_type": "code",
   "execution_count": 43,
   "metadata": {},
   "outputs": [
    {
     "name": "stdout",
     "output_type": "stream",
     "text": [
      "466\n"
     ]
    }
   ],
   "source": [
    "count = 0\n",
    "for i in pairs:\n",
    "    a,b = i.split(\",\")\n",
    "    \n",
    "    al, ar  = a.split('-')\n",
    "    bl , br = b.split(\"-\")\n",
    "    \n",
    "    if (int(al) <= int(bl) and int(ar) >= int(br)) or (int(al)>= int(bl) and int(ar) <= int(br)):\n",
    "        count+=1\n",
    "\n",
    "print(count)\n"
   ]
  },
  {
   "attachments": {},
   "cell_type": "markdown",
   "metadata": {},
   "source": [
    "## Part 2"
   ]
  },
  {
   "cell_type": "code",
   "execution_count": 48,
   "metadata": {},
   "outputs": [
    {
     "name": "stdout",
     "output_type": "stream",
     "text": [
      "865\n"
     ]
    }
   ],
   "source": [
    "count = 0\n",
    "for i in pairs:\n",
    "    a,b = i.split(\",\")\n",
    "    \n",
    "    al, ar  = [int(i) for i in a.split('-')]\n",
    "    bl , br = [int(i) for i in b.split('-')]\n",
    "    \n",
    "    if br >=al >=bl or bl>=ar >= br:\n",
    "        count+=1\n",
    "    elif ar >= bl >= al or al>= br >= ar:\n",
    "        count+=1\n",
    "\n",
    "print(count)\n"
   ]
  }
 ],
 "metadata": {
  "kernelspec": {
   "display_name": "Python 3",
   "language": "python",
   "name": "python3"
  },
  "language_info": {
   "codemirror_mode": {
    "name": "ipython",
    "version": 3
   },
   "file_extension": ".py",
   "mimetype": "text/x-python",
   "name": "python",
   "nbconvert_exporter": "python",
   "pygments_lexer": "ipython3",
   "version": "3.10.4"
  },
  "orig_nbformat": 4,
  "vscode": {
   "interpreter": {
    "hash": "aee8b7b246df8f9039afb4144a1f6fd8d2ca17a180786b69acc140d282b71a49"
   }
  }
 },
 "nbformat": 4,
 "nbformat_minor": 2
}
